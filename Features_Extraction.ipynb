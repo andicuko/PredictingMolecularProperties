{
 "cells": [
  {
   "cell_type": "code",
   "execution_count": 1,
   "metadata": {},
   "outputs": [],
   "source": [
    "import numpy as np\n",
    "import pandas as pd\n",
    "from rdkit import Chem\n",
    "from rdkit.Chem import rdmolops, rdMolTransforms, ChemicalFeatures\n",
    "import os"
   ]
  },
  {
   "cell_type": "code",
   "execution_count": 2,
   "metadata": {},
   "outputs": [],
   "source": [
    "fdefName = os.path.join(\"/Users/andicuko/anaconda2/pkgs/rdkit-2018.09.3.0-py27h65625ec_1/share/RDKit/Data\",'BaseFeatures.fdef')\n",
    "factory = ChemicalFeatures.BuildFeatureFactory(fdefName)"
   ]
  },
  {
   "cell_type": "code",
   "execution_count": 3,
   "metadata": {},
   "outputs": [],
   "source": [
    "train = pd.read_csv(\"train.csv\")\n",
    "test = pd.read_csv(\"test.csv\")"
   ]
  },
  {
   "cell_type": "code",
   "execution_count": 5,
   "metadata": {},
   "outputs": [],
   "source": [
    "train = train[train[\"molecule_name\"] != \"dsgdb9nsd_059827\"] #to skip \"dsgdb9nsd_059827\" it seems to be a transition state"
   ]
  },
  {
   "cell_type": "code",
   "execution_count": 6,
   "metadata": {},
   "outputs": [],
   "source": [
    "#there are many duplicates to be removed\n",
    "train = train.round(decimals=1)\n",
    "train.drop_duplicates(subset=[\"molecule_name\",\"type\", \"scalar_coupling_constant\"], inplace=True)"
   ]
  },
  {
   "cell_type": "code",
   "execution_count": 7,
   "metadata": {},
   "outputs": [],
   "source": [
    "train = pd.concat([train, test], sort=False)"
   ]
  },
  {
   "cell_type": "code",
   "execution_count": 8,
   "metadata": {},
   "outputs": [],
   "source": [
    "u = train[\"molecule_name\"].unique() # each molecule\n",
    "g = train.groupby(\"molecule_name\")"
   ]
  },
  {
   "cell_type": "code",
   "execution_count": 9,
   "metadata": {},
   "outputs": [],
   "source": [
    "electronegativity = {\"H\":2.20,\"C\": 2.55,\"N\": 3.04,\"O\": 3.44,\"F\": 3.98}"
   ]
  },
  {
   "cell_type": "code",
   "execution_count": 10,
   "metadata": {},
   "outputs": [
    {
     "name": "stdout",
     "output_type": "stream",
     "text": [
      "10000\n",
      "20000\n",
      "30000\n",
      "40000\n",
      "50000\n",
      "60000\n",
      "70000\n",
      "80000\n",
      "90000\n",
      "100000\n",
      "110000\n",
      "120000\n",
      "130000\n",
      "CPU times: user 7h 38min 2s, sys: 3min 38s, total: 7h 41min 41s\n",
      "Wall time: 7h 50min 38s\n"
     ]
    }
   ],
   "source": [
    "# this take a while to finish!\n",
    "# Here, I go through each molecule and for each molecule I see all atoms pare and \n",
    "# I extract a series of features from them.\n",
    "%%time\n",
    "property_dict = {\n",
    "    \"molecule_name\": [],\n",
    "    \"atom_index_0\": [],\n",
    "    \"atom_index_1\": [],\n",
    "    \"type\": [],\n",
    "    \"atom_1_type\": [],\n",
    "    \"atom_1_hybridization\": [],\n",
    "    \"pi_bonds\": [],\n",
    "    \"graph_distance\": [],\n",
    "    \"graph_smile\": [],\n",
    "    \"angle\":[],\n",
    "    \"dihedral\": [],\n",
    "    \"sum_electronegativity_inbetwen\":[],\n",
    "    \"sum_electronegativity_neghb\":[],\n",
    "    \"donor_groups_in_neighb\": [],\n",
    "    \"aceptor_groups_in_neighb\": [],\n",
    "    \"posIonizable_groups_in_neighb\": [],\n",
    "    \"aromatic_groups_in_neighb\": [],\n",
    "    \"hydrophobe_groups_in_neighb\": [],\n",
    "    \"lumpedHydrophobe_groups_in_neighb\": [],\n",
    "    \"negIonizable_groups_in_neighb\": [], \n",
    "}\n",
    "\n",
    "wrong_mol_files = []\n",
    "count = 0\n",
    "for mol_n in u:\n",
    "    count += 1\n",
    "    if count % 10000 ==0:\n",
    "        print(count) # just to keep track to where we are in the proccess\n",
    "    mol = Chem.MolFromMolFile(\"structures_mol/\"+mol_n+\".mol\", removeHs=False)\n",
    "    if mol is None:\n",
    "        mol = Chem.SDMolSupplier(\"structures_sdf/\"+mol_n+\".sdf\", removeHs=False)[0]\n",
    "    if mol is None:\n",
    "        # to keep track of problematic molecules\n",
    "        print(mol_n)\n",
    "        wrong_mol_files.append(mol_n)\n",
    "    else:\n",
    "        try:\n",
    "            a = g.get_group(mol_n)\n",
    "            pairs = zip(a.atom_index_0.values, a.atom_index_1.values, a.type.values)\n",
    "            dist_matrix = Chem.rdmolops.Get3DDistanceMatrix(mol)    \n",
    "            for pair in pairs:\n",
    "                atom_index_0 = pair[0]\n",
    "                atom_index_1 = pair[1]\n",
    "                J_type = pair[2]\n",
    "                atom_1 = mol.GetAtomWithIdx(pair[1])\n",
    "                atom_1_type = atom_1.GetSymbol()\n",
    "                atom_1_hybridization = str(atom_1.GetHybridization())\n",
    "                sp = rdmolops.GetShortestPath(mol,atom_index_0,atom_index_1)\n",
    "                graph_dist = 0.0\n",
    "                pi_bonds = 0.0\n",
    "                for i in range(len(sp[:-1])):\n",
    "                    graph_dist += dist_matrix[sp[i]][sp[i+1]]\n",
    "                    b = str(mol.GetBondBetweenAtoms(sp[i],sp[i+1]).GetBondType())\n",
    "                    if b==\"DOUBLE\":\n",
    "                        pi_bonds += 1\n",
    "                    if b==\"TRIPLE\":\n",
    "                        pi_bonds += 2\n",
    "                    if b==\"AROMATIC\":\n",
    "                        pi_bonds += 1.5  \n",
    "                conf=mol.GetConformer(-1)    \n",
    "                if len(sp) == 2: angle = 0.0; dihedral = 0.0    \n",
    "                if len(sp) == 3: \n",
    "                    angle = rdMolTransforms.GetAngleRad(conf,sp[0],sp[1],sp[2])  \n",
    "                    dihedral = 0.0\n",
    "                if len(sp) == 3: angle = rdMolTransforms.GetAngleRad(conf,sp[0],sp[1],sp[2])  \n",
    "                if len(sp) == 4: \n",
    "                    dihedral = rdMolTransforms.GetDihedralRad(conf, sp[0], sp[1], sp[2], sp[3])\n",
    "                    angle1 = rdMolTransforms.GetAngleRad(conf,sp[0],sp[1],sp[2]) \n",
    "                    angle2 = rdMolTransforms.GetAngleRad(conf,sp[1],sp[2],sp[3])\n",
    "                    angle = (angle1 + angle2)/2.0\n",
    "    \n",
    "                property_dict[\"molecule_name\"].append(mol_n)\n",
    "                property_dict[\"atom_index_0\"].append(atom_index_0)\n",
    "                property_dict[\"atom_index_1\"].append(atom_index_1)\n",
    "                property_dict[\"type\"].append(J_type)\n",
    "                property_dict[\"atom_1_type\"].append(atom_1_type)\n",
    "                property_dict[\"atom_1_hybridization\"].append(atom_1_hybridization)\n",
    "                property_dict[\"pi_bonds\"].append(pi_bonds)\n",
    "                property_dict[\"angle\"].append(angle)\n",
    "                property_dict[\"dihedral\"].append(dihedral)    \n",
    "                property_dict[\"graph_distance\"].append(graph_dist)\n",
    "                \n",
    "                atoms_inbetween = \"\".join([mol.GetAtomWithIdx(x).GetSymbol() for x in sp])\n",
    "                property_dict[\"graph_smile\"].append(atoms_inbetween)\n",
    "                \n",
    "                sum_electronegativity_inbetwen = sum([electronegativity[mol.GetAtomWithIdx(x).GetSymbol()] for x in sp])\n",
    "                sum_electronegativity_neghb = 0.0\n",
    "                neigh = list(atom_1.GetNeighbors())\n",
    "                \n",
    "                #molecule features\n",
    "                mol_features = factory.GetFeaturesForMol(mol) \n",
    "                familyfeat_to_atoms = {}\n",
    "                atoms_to_familyfeat = {}\n",
    "                for f in mol_features:\n",
    "                    atom_ids = f.GetAtomIds()\n",
    "                    familyfeat_to_atoms[f.GetFamily()] = [i for i in atom_ids]\n",
    "                unique_atoms_id = list(set([item for sublist in familyfeat_to_atoms.values() for item in sublist]))\n",
    "                for i in unique_atoms_id:\n",
    "                    atoms_to_familyfeat[i] = [k for k,v in familyfeat_to_atoms.iteritems() if i in v]\n",
    "    \n",
    "                neigh_numb = len(neigh)\n",
    "                donor_groups_in_neighb              = 0\n",
    "                aceptor_groups_in_neighb            = 0\n",
    "                posIonizable_groups_in_neighb       = 0\n",
    "                aromatic_groups_in_neighb           = 0\n",
    "                hydrophobe_groups_in_neighb         = 0\n",
    "                lumpedHydrophobe_groups_in_neighb   = 0\n",
    "                negIonizable_groups_in_neighb       = 0\n",
    "                for n in neigh:\n",
    "                    n_id = n.GetIdx()\n",
    "                    if n_id != sp[0]:\n",
    "                        sum_electronegativity_neghb += electronegativity[n.GetSymbol()]\n",
    "                        if n_id in atoms_to_familyfeat.keys(): \n",
    "                            if \"Donor\"           in atoms_to_familyfeat[i] : donor_groups_in_neighb            += 1 \n",
    "                            if \"Acceptor\"        in atoms_to_familyfeat[i] : aceptor_groups_in_neighb          += 1 \n",
    "                            if \"PosIonizable\"    in atoms_to_familyfeat[i] : posIonizable_groups_in_neighb     += 1 \n",
    "                            if \"Aromatic\"        in atoms_to_familyfeat[i] : aromatic_groups_in_neighb         += 1 \n",
    "                            if \"Hydrophobe\"      in atoms_to_familyfeat[i] : hydrophobe_groups_in_neighb       += 1 \n",
    "                            if \"LumpedHydrophobe\"in atoms_to_familyfeat[i] : lumpedHydrophobe_groups_in_neighb += 1 \n",
    "                            if \"NegIonizable\"    in atoms_to_familyfeat[i] : negIonizable_groups_in_neighb     += 1 \n",
    "    \n",
    "                property_dict[\"donor_groups_in_neighb\"].append(donor_groups_in_neighb)\n",
    "                property_dict[\"aceptor_groups_in_neighb\"].append(aceptor_groups_in_neighb)\n",
    "                property_dict[\"posIonizable_groups_in_neighb\"].append(posIonizable_groups_in_neighb)\n",
    "                property_dict[\"aromatic_groups_in_neighb\"].append(aromatic_groups_in_neighb)\n",
    "                property_dict[\"hydrophobe_groups_in_neighb\"].append(hydrophobe_groups_in_neighb)\n",
    "                property_dict[\"lumpedHydrophobe_groups_in_neighb\"].append(lumpedHydrophobe_groups_in_neighb)\n",
    "                property_dict[\"negIonizable_groups_in_neighb\"].append(negIonizable_groups_in_neighb)\n",
    "                    \n",
    "                property_dict[\"sum_electronegativity_inbetwen\"].append(sum_electronegativity_inbetwen)\n",
    "                property_dict[\"sum_electronegativity_neghb\"].append(sum_electronegativity_neghb)\n",
    "        except:\n",
    "            print count"
   ]
  },
  {
   "cell_type": "code",
   "execution_count": 11,
   "metadata": {},
   "outputs": [],
   "source": [
    "columns = [\n",
    "    'molecule_name',\n",
    "    'atom_index_1',\n",
    "    'atom_index_0',\n",
    "    'type',\n",
    "    'atom_1_type',\n",
    "    'atom_1_hybridization',\n",
    "    'pi_bonds',    \n",
    "    'graph_distance',\n",
    "    'graph_smile',\n",
    "    'angle',\n",
    "    'dihedral',\n",
    "    \"sum_electronegativity_inbetwen\",\n",
    "    \"sum_electronegativity_neghb\",\n",
    "    \"donor_groups_in_neighb\"           ,\n",
    "    \"aceptor_groups_in_neighb\"         ,\n",
    "    \"posIonizable_groups_in_neighb\"    ,\n",
    "    \"aromatic_groups_in_neighb\"        ,\n",
    "    \"hydrophobe_groups_in_neighb\"      ,\n",
    "    \"lumpedHydrophobe_groups_in_neighb\",\n",
    "    \"negIonizable_groups_in_neighb\"    ,\n",
    "]\n",
    "\n",
    "prop = pd.DataFrame(property_dict, columns=columns)"
   ]
  },
  {
   "cell_type": "code",
   "execution_count": 12,
   "metadata": {},
   "outputs": [],
   "source": [
    "prop['sigma_bonds'] = prop[\"type\"].apply(lambda x: x[0])"
   ]
  },
  {
   "cell_type": "code",
   "execution_count": 14,
   "metadata": {},
   "outputs": [],
   "source": [
    "train = pd.merge(train, prop, on=[\"molecule_name\", \"atom_index_1\", \"atom_index_0\", \"type\"])"
   ]
  },
  {
   "cell_type": "code",
   "execution_count": 16,
   "metadata": {},
   "outputs": [],
   "source": [
    "# saving the work\n",
    "train.to_csv(\"featurized_train.csv\", index=False)"
   ]
  }
 ],
 "metadata": {
  "kernelspec": {
   "display_name": "Python [conda env:root] *",
   "language": "python",
   "name": "conda-root-py"
  },
  "language_info": {
   "codemirror_mode": {
    "name": "ipython",
    "version": 2
   },
   "file_extension": ".py",
   "mimetype": "text/x-python",
   "name": "python",
   "nbconvert_exporter": "python",
   "pygments_lexer": "ipython2",
   "version": "2.7.16"
  }
 },
 "nbformat": 4,
 "nbformat_minor": 2
}
